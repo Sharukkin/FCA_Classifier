{
  "cells": [
    {
      "cell_type": "markdown",
      "metadata": {
        "id": "KYp6cZQMoSNF"
      },
      "source": [
        "## OSDA. Project. Data Analysis"
      ]
    },
    {
      "cell_type": "markdown",
      "metadata": {
        "id": "mVlyrtR_oSNM"
      },
      "source": [
        "### Вспомогательные функции"
      ]
    },
    {
      "cell_type": "markdown",
      "metadata": {
        "id": "QbIKV8YSoSNN"
      },
      "source": [
        "Для начала импортируем нужные библиотеки и создадим список всех обучающих и тестовых выборок.\n",
        "\n",
        "Я буду использовать датасеты по игре \"Крестики-нолики\", которые были представлены в задании."
      ]
    },
    {
      "cell_type": "code",
      "execution_count": null,
      "metadata": {
        "id": "Nx0jPpUQoSNO"
      },
      "outputs": [],
      "source": [
        "import numpy as np\n",
        "import pandas as pd\n",
        "import time\n",
        "from scipy import stats"
      ]
    },
    {
      "cell_type": "code",
      "execution_count": null,
      "metadata": {
        "id": "PsGdzAbhoSNQ"
      },
      "outputs": [],
      "source": [
        "list_train = []\n",
        "list_test = []\n",
        "for i in range(1, 11):\n",
        "    list_train.append(pd.read_csv(\"train\" + str(i) + \".csv\"))\n",
        "    list_test.append(pd.read_csv(\"test\" + str(i) + \".csv\"))"
      ]
    },
    {
      "cell_type": "markdown",
      "metadata": {
        "id": "4OdmmwzxoSNR"
      },
      "source": [
        "Реализуем вспомогательные функции.\n",
        "\n",
        "get_intersection(a, b) находит пересечения двух векторов. Возвращает список значений пересекающихся элементов и список их порядковых номеров.\n",
        "\n",
        "step_lazyFCA(X_train, y_train, num_train_array, test_array) выполняет шаг алгоритма LazyFCA.\n",
        "\n",
        "Возвращает 0, если нет пересечения, удовлетворяющего условию алгоритма LazyFCA.\n",
        "Иначе возвращает 1, если train[j] имеет положительный тип, возвращает -1, если отрицательный тип.\n",
        "\n",
        "get_metrics(y_test, y_pred) вычисляет значения всех необходимых метрик.\n",
        "\n",
        "- Accuracy\n",
        "- True Positive\n",
        "- True Negative\n",
        "- False Positive\n",
        "- False Negative\n",
        "- True Positive Rate\n",
        "- True Negative Rate\n",
        "- Negative Predictive Value\n",
        "- False Positive Rate\n",
        "- False Discovery Rate\n",
        "- Precision\n",
        "- Recall\n",
        "\n",
        "Для каждой функции приведен пример работы."
      ]
    },
    {
      "cell_type": "code",
      "execution_count": null,
      "metadata": {
        "id": "fl1UraZVoSNT"
      },
      "outputs": [],
      "source": [
        "def get_intersection(a, b):\n",
        "    N = len(a)\n",
        "    intersection = []\n",
        "    num_columns = []\n",
        "    for i in range(N):\n",
        "        if a[i] == b[i]:\n",
        "            intersection.append(a[i])\n",
        "            num_columns.append(i)\n",
        "    return intersection, num_columns"
      ]
    },
    {
      "cell_type": "code",
      "execution_count": null,
      "metadata": {
        "id": "FmklSH1UoSNW",
        "outputId": "9903a8f5-a36f-4a75-c937-1530e99cf182"
      },
      "outputs": [
        {
          "name": "stdout",
          "output_type": "stream",
          "text": [
            "['x' 'x' 'x' 'x' 'o' 'o' 'x' 'o' 'o'] ['x' 'x' 'x' 'x' 'o' 'o' 'o' 'x' 'o']\n",
            "(['x', 'x', 'x', 'x', 'o', 'o', 'o'], [0, 1, 2, 3, 4, 5, 8])\n"
          ]
        }
      ],
      "source": [
        "df = pd.read_csv(\"train1.csv\")\n",
        "dtest = pd.read_csv(\"test1.csv\")\n",
        "X_train = np.array(df.iloc[:, 0:9])\n",
        "y_train = np.array(df.iloc[:, 9])\n",
        "X_test = np.array(dtest.iloc[:, 0:9])\n",
        "y_test = np.array(dtest.iloc[:, 9])\n",
        "a = X_train[0]\n",
        "b = X_test[0]\n",
        "print(a, b)\n",
        "print(get_intersection(a, b))"
      ]
    },
    {
      "cell_type": "code",
      "execution_count": null,
      "metadata": {
        "id": "EyNnxqZNoSNY"
      },
      "outputs": [],
      "source": [
        "# Вернуть 0, если нет пересечения, удовлетворяющего условию алгоритма LazyFCA.\n",
        "# Иначе вернуть 1, если положительный тип, вернуть -1, если отрицательный тип.\n",
        "\n",
        "def step_lazyFCA(X_train, y_train, num_train_array, test_array):\n",
        "    intersection, columns = get_intersection(X_train[num_train_array], test_array)\n",
        "    N = len(X_train)\n",
        "    M = len(intersection)\n",
        "    if y_train[num_train_array] == 'positive':\n",
        "        checked = 'negative'\n",
        "    else:\n",
        "        checked = 'positive'\n",
        "    for i in range(N):\n",
        "        if y_train[i] == checked:\n",
        "            ind = True\n",
        "            for j in range(M):\n",
        "                if X_train[i][columns[j]] != intersection[j]:\n",
        "                    ind = False\n",
        "            if ind:\n",
        "                return 0\n",
        "    if checked == 'negative':\n",
        "        return 1\n",
        "    else:\n",
        "        return -1"
      ]
    },
    {
      "cell_type": "code",
      "execution_count": null,
      "metadata": {
        "id": "DbPDfknaoSNa",
        "outputId": "f05a4897-b915-4d23-8664-6319fb9567be"
      },
      "outputs": [
        {
          "data": {
            "text/plain": [
              "1"
            ]
          },
          "execution_count": 9,
          "metadata": {},
          "output_type": "execute_result"
        }
      ],
      "source": [
        "test_array = X_test[0]\n",
        "step_lazyFCA(X_train, y_train, 0, test_array)"
      ]
    },
    {
      "cell_type": "code",
      "execution_count": null,
      "metadata": {
        "id": "gtDs5B4eoSNb"
      },
      "outputs": [],
      "source": [
        "def get_metrics(y_test, y_pred):\n",
        "    N = len(y_test)\n",
        "    num_TP = 0\n",
        "    num_TN = 0\n",
        "    num_FP = 0\n",
        "    num_FN = 0\n",
        "    for i in range(N):\n",
        "        if y_test[i] == 'positive':\n",
        "            if y_pred[i] == 'positive':\n",
        "                num_TP += 1\n",
        "            else:\n",
        "                num_FN += 1\n",
        "        else:\n",
        "            if y_pred[i] == 'positive':\n",
        "                num_FP += 1\n",
        "            else:\n",
        "                num_TN += 1\n",
        "    TP = num_TP / N\n",
        "    TN = num_TN / N\n",
        "    FP = num_FP / N\n",
        "    FN = num_FN / N\n",
        "    TPR = TP / (TP + FN)\n",
        "    TNR = TN / (TN + FP)\n",
        "    FPR = FP / (FP + TN)\n",
        "    NPV = TN / (TN + FN)\n",
        "    FDR = FP / (TP + FP)\n",
        "    accuracy = TP + TN\n",
        "    precision = TP / (TP + FP)\n",
        "    recall = TP / (TP + FN)\n",
        "    return accuracy, TP, TN, FP, FN, TPR, TNR, FPR, NPV, FDR, precision, recall"
      ]
    },
    {
      "cell_type": "code",
      "execution_count": null,
      "metadata": {
        "id": "wJ_jVW5QoSNc",
        "outputId": "5362ce64-ce4d-4c7b-cda5-f9e69cfa6b88"
      },
      "outputs": [
        {
          "data": {
            "text/plain": [
              "array([0.6  , 0.4  , 0.2  , 0.2  , 0.2  , 0.667, 0.5  , 0.5  , 0.5  ,\n",
              "       0.333, 0.667, 0.667])"
            ]
          },
          "execution_count": 12,
          "metadata": {},
          "output_type": "execute_result"
        }
      ],
      "source": [
        "a = np.array(['positive', 'positive', 'positive', 'negative', 'negative'])\n",
        "b = np.array(['positive', 'positive', 'negative', 'negative', 'positive'])\n",
        "np.round(get_metrics(a, b), 3)"
      ]
    },
    {
      "cell_type": "markdown",
      "metadata": {
        "id": "b5dqhzxZoSNd"
      },
      "source": [
        "### Реализация алгоритмов обучения"
      ]
    },
    {
      "cell_type": "markdown",
      "metadata": {
        "id": "b9HtDan6oSNe"
      },
      "source": [
        "Все алгоритмы принимают на вход массив метрик и классов для обучающей выборки и массив метрик для тестовой выборки. \n",
        "\n",
        "Возвращают предсказание классов тестовой выборки."
      ]
    },
    {
      "cell_type": "markdown",
      "metadata": {
        "id": "25oQz_SGoSNe"
      },
      "source": [
        "1. Базовый алгоритм LazyFCA. Метод реализован на основе генераторов. \n",
        "\n",
        "Для каждого из объекта из плюс-контекста находим пересечение его описания и описания объекта из тестовой выборки. Если оно не встречается ни в одном из описаний минус-примеров, то увеличиваем на 1 число \"аргументов в пользу того, что объект из тестовой выборки положительный\".\n",
        "\n",
        "Для каждого из объекта из минус-контекста находим пересечение его описания и описания объекта из тестовой выборки. Если оно не встречается ни в одном из описаний плюс-примеров, то увеличиваем на 1 число \"аргументов в пользу того, что объект из тестовой выборки отрицательный\".\n",
        "\n",
        "Далее сравниваем количество \"аргументов\". Если больше \"аргументов\" в пользу того, что объект тестовой выборки положительный, принимаем y_pred[i] = '+'. Если больше \"аргументов\" в пользу того, что объект тестовой выборки отрицательный, принимаем y_pred[i] = '-'. Если же количество аргументов равно, то принимаем \"+\" с вероятностью p, которую можно передать как аргумент.\n",
        "\n",
        "2. Средняя мощность пересечения.\n",
        "\n",
        "Вычисляет среднюю мощность пересечения всех объектов плюс-контекста с объектом тестовой выборки и среднюю мощность пересечения всех объектов минус-контекста с объектом тестовой выборки. Принимаем ту гипотезу, для которой средняя мощность пересечения больше.\n",
        "\n",
        "3. Мощность пересечения k ближайших объектов.\n",
        "\n",
        "Определим близость векторов как мощность их пересечения (чем больше мощность пересечения, тем объекты ближе). Для каждого из плюс и минус контекстов найдем k объектов, наиболее близких в объекту из тестовой выборки, и сравним средние мощности для k ближайших объектов. Принимаем ту гипотезу, для которой средняя мощность пересечения больше. \n",
        "\n",
        "4. Продвинутый алгоритм LazyFCA.\n",
        "\n",
        "Это ансамбль алгоритмов №1 и №3. Сначала применяем алгоритм №1. Если разница по модулю \"аргументов\" в пользу того, что объект тестовой выборки принимает положительное или отрицательное значение, достигает значения d, то мы принимаем этот результат. В противном случае, если число аргументов в пользу каждого из классов примерно равно, применяем решение с помощью алгоритма №3."
      ]
    },
    {
      "cell_type": "code",
      "execution_count": null,
      "metadata": {
        "id": "necBr502oSNf"
      },
      "outputs": [],
      "source": [
        "def baseline_lazyFCA(X_train, y_train, X_test, p=0.5):\n",
        "    N = len(X_test)\n",
        "    y_pred = []\n",
        "    for i in range(N):\n",
        "        num_pos = 0\n",
        "        num_neg = 0\n",
        "        for j in range(len(y_train)):\n",
        "            step = step_lazyFCA(X_train, y_train, j, X_test[i])\n",
        "            if step == 1:\n",
        "                num_pos += 1\n",
        "            elif step == -1:\n",
        "                num_neg += 1\n",
        "        if num_pos > num_neg:\n",
        "            y_pred.append('positive')\n",
        "        elif num_pos < num_neg:\n",
        "            y_pred.append('negative')\n",
        "        else:\n",
        "            rand = stats.bernoulli(p).rvs()\n",
        "            if rand == 1:\n",
        "                y_pred.append('positive')\n",
        "            else:\n",
        "                y_pred.append('negative')\n",
        "    return np.array(y_pred)\n",
        "\n",
        "def avg_cardinality(X_train, y_train, X_test):\n",
        "    N = len(X_test)\n",
        "    y_pred = []\n",
        "    for i in range(N):\n",
        "        N_pos = 0\n",
        "        N_neg = 0\n",
        "        sum_pos = 0\n",
        "        sum_neg = 0\n",
        "        for j in range(len(y_train)):\n",
        "            if y_train[j] == 'positive':\n",
        "                N_pos += 1\n",
        "                sum_pos += len(get_intersection(X_test[i], X_train[j])[0])\n",
        "            else:\n",
        "                N_neg += 1\n",
        "                sum_neg += len(get_intersection(X_test[i], X_train[j])[0])\n",
        "        avg_pos = sum_pos / N_pos\n",
        "        avg_neg = sum_neg / N_neg\n",
        "        if avg_pos > avg_neg:\n",
        "            y_pred.append('positive')\n",
        "        else:\n",
        "            y_pred.append('negative')\n",
        "    return np.array(y_pred)\n",
        "\n",
        "def top_k_cardinality(X_train, y_train, X_test, k=10):\n",
        "    N = len(X_test)\n",
        "    y_pred = []\n",
        "    for i in range(N):\n",
        "        pos_card = []\n",
        "        neg_card = []\n",
        "        for j in range(len(y_train)):\n",
        "            if y_train[j] == 'positive':\n",
        "                pos_card.append(len(get_intersection(X_test[i], X_train[j])[0]))\n",
        "            else:\n",
        "                neg_card.append(len(get_intersection(X_test[i], X_train[j])[0]))\n",
        "        pos_card = sorted(pos_card)\n",
        "        neg_card = sorted(neg_card)\n",
        "        k_pos_card = np.array(pos_card[-k:])\n",
        "        k_neg_card = np.array(neg_card[-k:])\n",
        "        avg_pos = np.mean(k_pos_card)\n",
        "        avg_neg = np.mean(k_neg_card)\n",
        "        if avg_pos > avg_neg:\n",
        "            y_pred.append('positive')\n",
        "        else:\n",
        "            y_pred.append('negative')\n",
        "    return np.array(y_pred)\n",
        "\n",
        "def smart_lazy_FCA(X_train, y_train, X_test, k=10, d=5):\n",
        "    N = len(X_test)\n",
        "    y_pred = []\n",
        "    for i in range(N):\n",
        "        num_pos = 0\n",
        "        num_neg = 0\n",
        "        for j in range(len(y_train)):\n",
        "            step = step_lazyFCA(X_train, y_train, j, X_test[i])\n",
        "            if step == 1:\n",
        "                num_pos += 1\n",
        "            elif step == -1:\n",
        "                num_neg += 1\n",
        "        if num_pos >= num_neg + d:\n",
        "            y_pred.append('positive')\n",
        "        elif num_neg >= num_pos + d:\n",
        "            y_pred.append('negative')\n",
        "        else:\n",
        "            pos_card = []\n",
        "            neg_card = []\n",
        "            for j in range(len(y_train)):\n",
        "                if y_train[j] == 'positive':\n",
        "                    pos_card.append(len(get_intersection(X_test[i], X_train[j])[0]))\n",
        "                else:\n",
        "                    neg_card.append(len(get_intersection(X_test[i], X_train[j])[0]))\n",
        "            pos_card = sorted(pos_card)\n",
        "            neg_card = sorted(neg_card)\n",
        "            k_pos_card = np.array(pos_card[-k:])\n",
        "            k_neg_card = np.array(neg_card[-k:])\n",
        "            avg_pos = np.mean(k_pos_card)\n",
        "            avg_neg = np.mean(k_neg_card)\n",
        "            if avg_pos > avg_neg:\n",
        "                y_pred.append('positive')\n",
        "            else:\n",
        "                y_pred.append('negative')\n",
        "    return np.array(y_pred)\n"
      ]
    },
    {
      "cell_type": "markdown",
      "metadata": {
        "id": "1SduT1BjoSNg"
      },
      "source": [
        "### Результаты на датасетах про крестики-нолики."
      ]
    },
    {
      "cell_type": "markdown",
      "metadata": {
        "id": "bw3FjXSboSNg"
      },
      "source": [
        "Найдем среднее время работы и среднее значение метрик качества для всех реализованных алгоритмов.\n",
        "\n",
        "Будем использовать 10 датасетов для обучения и теста, которые представлены в материалах к заданию (Tic-Tac-Toe)."
      ]
    },
    {
      "cell_type": "code",
      "execution_count": null,
      "metadata": {
        "id": "7seBLvX_oSNh",
        "outputId": "ec3c58ee-c554-4780-b918-6e888e8eb6c4"
      },
      "outputs": [
        {
          "data": {
            "text/html": [
              "<div>\n",
              "<style scoped>\n",
              "    .dataframe tbody tr th:only-of-type {\n",
              "        vertical-align: middle;\n",
              "    }\n",
              "\n",
              "    .dataframe tbody tr th {\n",
              "        vertical-align: top;\n",
              "    }\n",
              "\n",
              "    .dataframe thead th {\n",
              "        text-align: right;\n",
              "    }\n",
              "</style>\n",
              "<table border=\"1\" class=\"dataframe\">\n",
              "  <thead>\n",
              "    <tr style=\"text-align: right;\">\n",
              "      <th></th>\n",
              "      <th>0</th>\n",
              "      <th>1</th>\n",
              "      <th>2</th>\n",
              "      <th>3</th>\n",
              "    </tr>\n",
              "  </thead>\n",
              "  <tbody>\n",
              "    <tr>\n",
              "      <th>0</th>\n",
              "      <td>0.940541</td>\n",
              "      <td>0.658806</td>\n",
              "      <td>0.989572</td>\n",
              "      <td>0.953244</td>\n",
              "    </tr>\n",
              "    <tr>\n",
              "      <th>1</th>\n",
              "      <td>0.653474</td>\n",
              "      <td>0.427801</td>\n",
              "      <td>0.652375</td>\n",
              "      <td>0.653474</td>\n",
              "    </tr>\n",
              "    <tr>\n",
              "      <th>2</th>\n",
              "      <td>0.287067</td>\n",
              "      <td>0.231004</td>\n",
              "      <td>0.337197</td>\n",
              "      <td>0.299770</td>\n",
              "    </tr>\n",
              "    <tr>\n",
              "      <th>3</th>\n",
              "      <td>0.059459</td>\n",
              "      <td>0.115522</td>\n",
              "      <td>0.009329</td>\n",
              "      <td>0.046756</td>\n",
              "    </tr>\n",
              "    <tr>\n",
              "      <th>4</th>\n",
              "      <td>0.000000</td>\n",
              "      <td>0.225672</td>\n",
              "      <td>0.001099</td>\n",
              "      <td>0.000000</td>\n",
              "    </tr>\n",
              "    <tr>\n",
              "      <th>5</th>\n",
              "      <td>1.000000</td>\n",
              "      <td>0.654461</td>\n",
              "      <td>0.998305</td>\n",
              "      <td>1.000000</td>\n",
              "    </tr>\n",
              "    <tr>\n",
              "      <th>6</th>\n",
              "      <td>0.830267</td>\n",
              "      <td>0.666774</td>\n",
              "      <td>0.973557</td>\n",
              "      <td>0.866804</td>\n",
              "    </tr>\n",
              "    <tr>\n",
              "      <th>7</th>\n",
              "      <td>0.169733</td>\n",
              "      <td>0.333226</td>\n",
              "      <td>0.026443</td>\n",
              "      <td>0.133196</td>\n",
              "    </tr>\n",
              "    <tr>\n",
              "      <th>8</th>\n",
              "      <td>1.000000</td>\n",
              "      <td>0.508442</td>\n",
              "      <td>0.996970</td>\n",
              "      <td>1.000000</td>\n",
              "    </tr>\n",
              "    <tr>\n",
              "      <th>9</th>\n",
              "      <td>0.083367</td>\n",
              "      <td>0.213055</td>\n",
              "      <td>0.014177</td>\n",
              "      <td>0.066755</td>\n",
              "    </tr>\n",
              "    <tr>\n",
              "      <th>10</th>\n",
              "      <td>0.916633</td>\n",
              "      <td>0.786945</td>\n",
              "      <td>0.985823</td>\n",
              "      <td>0.933245</td>\n",
              "    </tr>\n",
              "    <tr>\n",
              "      <th>11</th>\n",
              "      <td>1.000000</td>\n",
              "      <td>0.654461</td>\n",
              "      <td>0.998305</td>\n",
              "      <td>1.000000</td>\n",
              "    </tr>\n",
              "    <tr>\n",
              "      <th>12</th>\n",
              "      <td>20.577929</td>\n",
              "      <td>0.278964</td>\n",
              "      <td>0.290959</td>\n",
              "      <td>20.591443</td>\n",
              "    </tr>\n",
              "  </tbody>\n",
              "</table>\n",
              "</div>"
            ],
            "text/plain": [
              "            0         1         2          3\n",
              "0    0.940541  0.658806  0.989572   0.953244\n",
              "1    0.653474  0.427801  0.652375   0.653474\n",
              "2    0.287067  0.231004  0.337197   0.299770\n",
              "3    0.059459  0.115522  0.009329   0.046756\n",
              "4    0.000000  0.225672  0.001099   0.000000\n",
              "5    1.000000  0.654461  0.998305   1.000000\n",
              "6    0.830267  0.666774  0.973557   0.866804\n",
              "7    0.169733  0.333226  0.026443   0.133196\n",
              "8    1.000000  0.508442  0.996970   1.000000\n",
              "9    0.083367  0.213055  0.014177   0.066755\n",
              "10   0.916633  0.786945  0.985823   0.933245\n",
              "11   1.000000  0.654461  0.998305   1.000000\n",
              "12  20.577929  0.278964  0.290959  20.591443"
            ]
          },
          "execution_count": 16,
          "metadata": {},
          "output_type": "execute_result"
        }
      ],
      "source": [
        "RES = np.zeros((4, 13)) \n",
        "\n",
        "# Вычисляем метрики и время работы для всех четырех алгоритмах на 10 датасетах.\n",
        "for i in range(10):\n",
        "    df = list_train[i]\n",
        "    dtest = list_test[i]\n",
        "    X_train = np.array(df.iloc[:, 0:9])\n",
        "    y_train = np.array(df.iloc[:, 9])\n",
        "    X_test = np.array(dtest.iloc[:, 0:9])\n",
        "    y_test = np.array(dtest.iloc[:, 9])\n",
        "    \n",
        "    start = time.time()\n",
        "    y_pred = baseline_lazyFCA(X_train, y_train, X_test)\n",
        "    end = time.time()\n",
        "    RES[0][:12] += get_metrics(y_test, y_pred)\n",
        "    RES[0][12] += (end - start)\n",
        "    \n",
        "    start = time.time()\n",
        "    y_pred = avg_cardinality(X_train, y_train, X_test)\n",
        "    end = time.time()\n",
        "    RES[1][:12] += get_metrics(y_test, y_pred)\n",
        "    RES[1][12] += (end - start)\n",
        "    \n",
        "    start = time.time()\n",
        "    y_pred = top_k_cardinality(X_train, y_train, X_test)\n",
        "    end = time.time()\n",
        "    RES[2][:12] += get_metrics(y_test, y_pred)\n",
        "    RES[2][12] += (end - start)\n",
        "    \n",
        "    start = time.time()\n",
        "    y_pred = smart_lazy_FCA(X_train, y_train, X_test)\n",
        "    end = time.time()\n",
        "    RES[3][:12] += get_metrics(y_test, y_pred)\n",
        "    RES[3][12] += (end - start)\n",
        "\n",
        "# Делим на число экспериментов, чтобы получить среднее.    \n",
        "RES = RES / 10\n",
        "df_res = pd.DataFrame(RES.T)\n",
        "df_res"
      ]
    },
    {
      "cell_type": "code",
      "execution_count": null,
      "metadata": {
        "id": "auJ2lu1noSNi",
        "outputId": "6ffc80ee-4331-4a56-87b8-8940b939fa85"
      },
      "outputs": [
        {
          "data": {
            "text/html": [
              "<div>\n",
              "<style scoped>\n",
              "    .dataframe tbody tr th:only-of-type {\n",
              "        vertical-align: middle;\n",
              "    }\n",
              "\n",
              "    .dataframe tbody tr th {\n",
              "        vertical-align: top;\n",
              "    }\n",
              "\n",
              "    .dataframe thead th {\n",
              "        text-align: right;\n",
              "    }\n",
              "</style>\n",
              "<table border=\"1\" class=\"dataframe\">\n",
              "  <thead>\n",
              "    <tr style=\"text-align: right;\">\n",
              "      <th></th>\n",
              "      <th>0</th>\n",
              "      <th>1</th>\n",
              "      <th>2</th>\n",
              "      <th>3</th>\n",
              "    </tr>\n",
              "  </thead>\n",
              "  <tbody>\n",
              "    <tr>\n",
              "      <th>0</th>\n",
              "      <td>0.9405</td>\n",
              "      <td>0.6588</td>\n",
              "      <td>0.9896</td>\n",
              "      <td>0.9532</td>\n",
              "    </tr>\n",
              "    <tr>\n",
              "      <th>1</th>\n",
              "      <td>0.6535</td>\n",
              "      <td>0.4278</td>\n",
              "      <td>0.6524</td>\n",
              "      <td>0.6535</td>\n",
              "    </tr>\n",
              "    <tr>\n",
              "      <th>2</th>\n",
              "      <td>0.2871</td>\n",
              "      <td>0.2310</td>\n",
              "      <td>0.3372</td>\n",
              "      <td>0.2998</td>\n",
              "    </tr>\n",
              "    <tr>\n",
              "      <th>3</th>\n",
              "      <td>0.0595</td>\n",
              "      <td>0.1155</td>\n",
              "      <td>0.0093</td>\n",
              "      <td>0.0468</td>\n",
              "    </tr>\n",
              "    <tr>\n",
              "      <th>4</th>\n",
              "      <td>0.0000</td>\n",
              "      <td>0.2257</td>\n",
              "      <td>0.0011</td>\n",
              "      <td>0.0000</td>\n",
              "    </tr>\n",
              "    <tr>\n",
              "      <th>5</th>\n",
              "      <td>1.0000</td>\n",
              "      <td>0.6545</td>\n",
              "      <td>0.9983</td>\n",
              "      <td>1.0000</td>\n",
              "    </tr>\n",
              "    <tr>\n",
              "      <th>6</th>\n",
              "      <td>0.8303</td>\n",
              "      <td>0.6668</td>\n",
              "      <td>0.9736</td>\n",
              "      <td>0.8668</td>\n",
              "    </tr>\n",
              "    <tr>\n",
              "      <th>7</th>\n",
              "      <td>0.1697</td>\n",
              "      <td>0.3332</td>\n",
              "      <td>0.0264</td>\n",
              "      <td>0.1332</td>\n",
              "    </tr>\n",
              "    <tr>\n",
              "      <th>8</th>\n",
              "      <td>1.0000</td>\n",
              "      <td>0.5084</td>\n",
              "      <td>0.9970</td>\n",
              "      <td>1.0000</td>\n",
              "    </tr>\n",
              "    <tr>\n",
              "      <th>9</th>\n",
              "      <td>0.0834</td>\n",
              "      <td>0.2131</td>\n",
              "      <td>0.0142</td>\n",
              "      <td>0.0668</td>\n",
              "    </tr>\n",
              "    <tr>\n",
              "      <th>10</th>\n",
              "      <td>0.9166</td>\n",
              "      <td>0.7869</td>\n",
              "      <td>0.9858</td>\n",
              "      <td>0.9332</td>\n",
              "    </tr>\n",
              "    <tr>\n",
              "      <th>11</th>\n",
              "      <td>1.0000</td>\n",
              "      <td>0.6545</td>\n",
              "      <td>0.9983</td>\n",
              "      <td>1.0000</td>\n",
              "    </tr>\n",
              "    <tr>\n",
              "      <th>12</th>\n",
              "      <td>20.5779</td>\n",
              "      <td>0.2790</td>\n",
              "      <td>0.2910</td>\n",
              "      <td>20.5914</td>\n",
              "    </tr>\n",
              "  </tbody>\n",
              "</table>\n",
              "</div>"
            ],
            "text/plain": [
              "          0       1       2        3\n",
              "0    0.9405  0.6588  0.9896   0.9532\n",
              "1    0.6535  0.4278  0.6524   0.6535\n",
              "2    0.2871  0.2310  0.3372   0.2998\n",
              "3    0.0595  0.1155  0.0093   0.0468\n",
              "4    0.0000  0.2257  0.0011   0.0000\n",
              "5    1.0000  0.6545  0.9983   1.0000\n",
              "6    0.8303  0.6668  0.9736   0.8668\n",
              "7    0.1697  0.3332  0.0264   0.1332\n",
              "8    1.0000  0.5084  0.9970   1.0000\n",
              "9    0.0834  0.2131  0.0142   0.0668\n",
              "10   0.9166  0.7869  0.9858   0.9332\n",
              "11   1.0000  0.6545  0.9983   1.0000\n",
              "12  20.5779  0.2790  0.2910  20.5914"
            ]
          },
          "execution_count": 19,
          "metadata": {},
          "output_type": "execute_result"
        }
      ],
      "source": [
        "pd.DataFrame(np.round(RES.T, 4))"
      ]
    },
    {
      "cell_type": "markdown",
      "metadata": {
        "id": "5glr-LuJoSNi"
      },
      "source": [
        "### Кросс-валидация и подбор оптимальных значений параметров"
      ]
    },
    {
      "cell_type": "markdown",
      "metadata": {
        "id": "fjKIWHpqoSNj"
      },
      "source": [
        "Как мы видели ранее, лучшие результаты по метрикам качества показывает алгоритм №3, при этом он намного быстрее алгоритмов №1 и №4. Поэтому в данном разделе мы будем искать оптимальное значение параметра k только для алгоритма \"Мощность пересечения k ближайших объектов\".\n",
        "\n",
        "Предположим, что ошибки первого и второго рода приводят к одинаковым потерям, поэтому ориентируемся только на метрику Accuracy."
      ]
    },
    {
      "cell_type": "markdown",
      "metadata": {
        "id": "M4MLP7n7oSNj"
      },
      "source": [
        "Для начала напишем функцию для кросс-валидации. Она будет принимать на вход массив данных и значение k для реализации алгоритма \"Мощность пересечения k ближайших объектов\"."
      ]
    },
    {
      "cell_type": "code",
      "execution_count": null,
      "metadata": {
        "id": "tOBiqWv2oSNk"
      },
      "outputs": [],
      "source": [
        "def cross_valid(data, k):\n",
        "    accur = np.zeros(10)\n",
        "    np.random.shuffle(data) # Перемешиваем объекты\n",
        "    data_list = np.array_split(data, 10) # Делим выборку на 10 равных частей\n",
        "    for i in range(10):\n",
        "        i_data_list = tuple([data_list[j] for j in range(10) if j != i])\n",
        "        A = np.concatenate(i_data_list, axis=0) # Объединяем все массивы, кроме i-го.\n",
        "        X_train = A[:,0:9]\n",
        "        y_train = A[:,9]\n",
        "        X_test = data_list[i][:,0:9]\n",
        "        y_test = data_list[i][:,9]\n",
        "        y_pred = top_k_cardinality(X_train, y_train, X_test, k=k)\n",
        "        accur[i] = get_metrics(y_test, y_pred)[0]\n",
        "    return accur"
      ]
    },
    {
      "cell_type": "markdown",
      "metadata": {
        "id": "2tBVPKKooSNk"
      },
      "source": [
        "Объединим все датасеты из тестовой выбоки в один и посмотрим на среднее значение точности прогнозов на кросс-валидации (количество строк равно 865)."
      ]
    },
    {
      "cell_type": "code",
      "execution_count": null,
      "metadata": {
        "id": "4X6cxBnDoSNk",
        "outputId": "ad5faf01-5731-465d-a06a-af0906fa0f4c"
      },
      "outputs": [
        {
          "name": "stdout",
          "output_type": "stream",
          "text": [
            "1 0.488\n",
            "2 0.513\n",
            "3 0.659\n",
            "4 0.79\n",
            "5 0.87\n",
            "6 0.933\n",
            "7 0.961\n",
            "8 0.968\n",
            "9 0.98\n",
            "10 0.984\n",
            "11 0.991\n",
            "12 0.989\n",
            "13 0.991\n",
            "14 0.987\n",
            "15 0.987\n",
            "16 0.986\n",
            "17 0.989\n",
            "18 0.981\n",
            "19 0.98\n"
          ]
        }
      ],
      "source": [
        "np.random.seed(42)\n",
        "data = np.concatenate(tuple(list_test), axis=0)\n",
        "for k in range(1, 20):\n",
        "    print(k, np.round(np.mean(cross_valid(data, k)), 3))"
      ]
    },
    {
      "cell_type": "markdown",
      "metadata": {
        "id": "8-bfEacaoSNl"
      },
      "source": [
        "Лучшие результаты показаны при $k=11$ и $k=13$. Видно, что при $k \\geq 14$ среднее значение точности не превосходит 0.99 и убывает, поэтому разумно предположить, что мы нашли глобальный максимум точности."
      ]
    },
    {
      "cell_type": "markdown",
      "metadata": {
        "id": "lAu54yzToSNl"
      },
      "source": [
        "### Свойства бинарных отношений"
      ]
    },
    {
      "cell_type": "markdown",
      "metadata": {
        "id": "G4J4epNfoSNl"
      },
      "source": [
        "Проверим нашу модель на других данных. Вдруг модель хорошо работает только для крестиков-ноликов?\n",
        "\n",
        "Во время выполнения первого домашнего задания по этому курсу я написал функции, проверяющие, является ли бинарное отношение асимметричным и является ли отношение транзитивным.\n",
        "\n",
        "Давайте с их помощью сгенерируем 500 асимметричных и 500 не асимметричных бинарных отношений, которые будет задавать матрицей 3x3. "
      ]
    },
    {
      "cell_type": "code",
      "execution_count": null,
      "metadata": {
        "id": "PdmKLMH0oSNm"
      },
      "outputs": [],
      "source": [
        "def is_asymmetric(M):\n",
        "    if np.trace(M.dot(M)) > 0:\n",
        "        return False\n",
        "    return True"
      ]
    },
    {
      "cell_type": "code",
      "execution_count": null,
      "metadata": {
        "id": "GVa8gV80oSNm",
        "outputId": "0115fb8e-7aec-43af-fbe7-1f06abb7e7bb"
      },
      "outputs": [
        {
          "data": {
            "text/plain": [
              "array([['0', '0', '1', ..., '1', '0', 'positive'],\n",
              "       ['0', '0', '1', ..., '1', '0', 'positive'],\n",
              "       ['0', '0', '1', ..., '0', '0', 'positive'],\n",
              "       ...,\n",
              "       ['1', '0', '1', ..., '1', '1', 'negative'],\n",
              "       ['0', '0', '1', ..., '1', '1', 'negative'],\n",
              "       ['1', '1', '1', ..., '1', '1', 'negative']], dtype='<U11')"
            ]
          },
          "execution_count": 40,
          "metadata": {},
          "output_type": "execute_result"
        }
      ],
      "source": [
        "np.random.seed(42)\n",
        "data = []\n",
        "num_elements = 0\n",
        "while num_elements < 500:\n",
        "    rand_array = stats.bernoulli(0.5).rvs(9)\n",
        "    A = np.array(np.array_split(rand_array, 3))\n",
        "    if is_asymmetric(A):\n",
        "        data.append(rand_array)\n",
        "        num_elements += 1\n",
        "while num_elements < 1000:\n",
        "    rand_array = stats.bernoulli(0.5).rvs(9)\n",
        "    A = np.array(np.array_split(rand_array, 3))\n",
        "    if not is_asymmetric(A):\n",
        "        data.append(rand_array)\n",
        "        num_elements += 1\n",
        "data = np.array(data)\n",
        "data = data.T\n",
        "data = [list(arr) for arr in list(data)]\n",
        "class_ = []\n",
        "for i in range(500):\n",
        "    class_.append('positive')\n",
        "for i in range(500):\n",
        "    class_.append('negative')\n",
        "data.append(class_)\n",
        "data = np.array(data)\n",
        "data = data.T\n",
        "data"
      ]
    },
    {
      "cell_type": "code",
      "execution_count": null,
      "metadata": {
        "id": "GeGthasooSNm",
        "outputId": "ed693a5b-bfd8-47e2-95e7-365ed960fa77"
      },
      "outputs": [
        {
          "data": {
            "text/plain": [
              "(1000, 10)"
            ]
          },
          "execution_count": 41,
          "metadata": {},
          "output_type": "execute_result"
        }
      ],
      "source": [
        "len(data), len(data[0])"
      ]
    },
    {
      "cell_type": "code",
      "execution_count": null,
      "metadata": {
        "id": "tYq1WzQyoSNn",
        "outputId": "76f5bedc-a12c-4c8f-d7c4-b2e57c27629c"
      },
      "outputs": [
        {
          "name": "stdout",
          "output_type": "stream",
          "text": [
            "1 1.0\n",
            "2 1.0\n",
            "3 0.999\n",
            "4 0.998\n",
            "5 0.996\n",
            "6 0.98\n",
            "7 0.976\n",
            "8 0.956\n",
            "9 0.95\n",
            "10 0.932\n",
            "11 0.925\n",
            "12 0.909\n",
            "13 0.9\n",
            "14 0.889\n",
            "15 0.886\n",
            "16 0.883\n",
            "17 0.885\n",
            "18 0.883\n",
            "19 0.884\n"
          ]
        }
      ],
      "source": [
        "np.random.seed(42)\n",
        "for k in range(1, 20):\n",
        "    print(k, np.round(np.mean(cross_valid(data, k)), 3))"
      ]
    },
    {
      "cell_type": "markdown",
      "metadata": {
        "id": "wx8d7kIhoSNn"
      },
      "source": [
        "А теперь проверим, как алгоритм справляется с проверкой на транзитивность."
      ]
    },
    {
      "cell_type": "code",
      "execution_count": null,
      "metadata": {
        "id": "9VsRDM-NoSNo"
      },
      "outputs": [],
      "source": [
        "def is_transitive(M, n = 3):\n",
        "    for i in range(n):\n",
        "        for j in range(n):\n",
        "            if M[i][j] == 1:\n",
        "                for k in range(n):\n",
        "                    if M[j][k] == 1:\n",
        "                        if M[i][k] == 0:\n",
        "                            return False\n",
        "    return True\n"
      ]
    },
    {
      "cell_type": "code",
      "execution_count": null,
      "metadata": {
        "id": "9MbG1UdsoSNo",
        "outputId": "217ddb63-67d7-4bb2-da65-0d9fdeb54f44"
      },
      "outputs": [
        {
          "data": {
            "text/plain": [
              "array([['1', '1', '0', ..., '0', '1', 'positive'],\n",
              "       ['0', '0', '1', ..., '0', '1', 'positive'],\n",
              "       ['0', '1', '1', ..., '0', '0', 'positive'],\n",
              "       ...,\n",
              "       ['0', '1', '1', ..., '0', '0', 'negative'],\n",
              "       ['1', '0', '1', ..., '1', '0', 'negative'],\n",
              "       ['1', '1', '0', ..., '1', '0', 'negative']], dtype='<U11')"
            ]
          },
          "execution_count": 44,
          "metadata": {},
          "output_type": "execute_result"
        }
      ],
      "source": [
        "np.random.seed(42)\n",
        "data = []\n",
        "num_elements = 0\n",
        "while num_elements < 500:\n",
        "    rand_array = stats.bernoulli(0.5).rvs(9)\n",
        "    A = np.array(np.array_split(rand_array, 3))\n",
        "    if is_transitive(A):\n",
        "        data.append(rand_array)\n",
        "        num_elements += 1\n",
        "while num_elements < 1000:\n",
        "    rand_array = stats.bernoulli(0.5).rvs(9)\n",
        "    A = np.array(np.array_split(rand_array, 3))\n",
        "    if not is_transitive(A):\n",
        "        data.append(rand_array)\n",
        "        num_elements += 1\n",
        "data = np.array(data)\n",
        "data = data.T\n",
        "data = [list(arr) for arr in list(data)]\n",
        "class_ = []\n",
        "for i in range(500):\n",
        "    class_.append('positive')\n",
        "for i in range(500):\n",
        "    class_.append('negative')\n",
        "data.append(class_)\n",
        "data = np.array(data)\n",
        "data = data.T\n",
        "data"
      ]
    },
    {
      "cell_type": "code",
      "execution_count": null,
      "metadata": {
        "id": "Cx3aKiCOoSNp",
        "outputId": "de16b72b-f9da-4df9-b3fc-ac0384fe0e25"
      },
      "outputs": [
        {
          "name": "stdout",
          "output_type": "stream",
          "text": [
            "1 0.964\n",
            "2 0.965\n",
            "3 0.973\n",
            "4 0.97\n",
            "5 0.979\n",
            "6 0.965\n",
            "7 0.976\n",
            "8 0.968\n",
            "9 0.966\n",
            "10 0.954\n",
            "11 0.946\n",
            "12 0.947\n",
            "13 0.946\n",
            "14 0.942\n",
            "15 0.95\n",
            "16 0.943\n",
            "17 0.945\n",
            "18 0.946\n",
            "19 0.949\n"
          ]
        }
      ],
      "source": [
        "np.random.seed(42)\n",
        "for k in range(1, 20):\n",
        "    print(k, np.round(np.mean(cross_valid(data, k)), 3))"
      ]
    },
    {
      "cell_type": "markdown",
      "metadata": {
        "id": "QfORtlf8oSNp"
      },
      "source": [
        "### Выводы\n",
        "\n",
        "Как можно заметить, для разных задач оптимальными являются разные значения параметра k.\n",
        "\n",
        "Для определения итога партии в \"крестики-нолики\" оптимальными значениями были k=11 и k=13.\n",
        "\n",
        "Для определения, является ли бинарное отношение асимметричным, оптимальными были k=1, k=2: при данных значениях параметров в наших экспериментах прогноз всегда был верным.\n",
        "\n",
        "Для определения, является ли бинарное отношение транзитивным, оптимальным оказалось k=5.\n",
        "\n",
        "Получается, что для каждой задачи оптимальное значение k может быть разным. В любом случае, метод показывает очень достойные результаты, в большинстве экспериментов точность прогноза превышает 95%."
      ]
    }
  ],
  "metadata": {
    "kernelspec": {
      "display_name": "Python 3",
      "language": "python",
      "name": "python3"
    },
    "language_info": {
      "codemirror_mode": {
        "name": "ipython",
        "version": 3
      },
      "file_extension": ".py",
      "mimetype": "text/x-python",
      "name": "python",
      "nbconvert_exporter": "python",
      "pygments_lexer": "ipython3",
      "version": "3.8.3"
    },
    "colab": {
      "name": "Code.ipynb",
      "provenance": [],
      "collapsed_sections": []
    }
  },
  "nbformat": 4,
  "nbformat_minor": 0
}